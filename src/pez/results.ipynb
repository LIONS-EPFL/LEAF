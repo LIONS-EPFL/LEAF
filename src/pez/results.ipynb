{
 "cells": [
  {
   "metadata": {
    "ExecuteTime": {
     "end_time": "2025-04-29T06:19:52.562992Z",
     "start_time": "2025-04-29T06:19:52.556604Z"
    }
   },
   "cell_type": "code",
   "source": [
    "import json\n",
    "import os\n",
    "\n",
    "import numpy as np\n",
    "\n",
    "ref_captions_path = \"coco_captions.txt\"\n",
    "reconstuctions_dir = \"/mnt/cschlarmann37/project_bimodal-robust-clip/results_inversions\"\n",
    "rec_vith_clean_path = os.path.join(reconstuctions_dir, \"results-100smpls-3000iters-ViT-H-14-clean.json\")\n",
    "rec_vith_robust_path = os.path.join(reconstuctions_dir, \"results-100smpls-3000iters-ViT-H-14-robust.json\")\n",
    "\n",
    "res_clean_dict = json.load(open(rec_vith_clean_path, 'r'))\n",
    "res_robust_dict = json.load(open(rec_vith_robust_path, 'r'))\n",
    "res_clean_list = res_clean_dict[\"results\"]\n",
    "res_robust_list = res_robust_dict[\"results\"]\n",
    "\n",
    "refs_clean = [r[\"original\"] for r in res_clean_list]\n",
    "refs_robust = [r[\"original\"] for r in res_robust_list]\n",
    "assert refs_clean == refs_robust\n",
    "refs = refs_clean\n",
    "recs_clean = [r[\"reconstructed\"] for r in res_clean_list]\n",
    "recs_robust = [r[\"reconstructed\"] for r in res_robust_list]\n",
    "# get random sample of 10 and print\n",
    "sample_size = 10\n",
    "rng = np.random.default_rng(0)\n",
    "sample_indices = rng.choice(len(refs), size=sample_size, replace=False)\n",
    "res_clean_sample = [res_clean_list[i] for i in sample_indices]\n",
    "res_robust_sample = [res_robust_list[i] for i in sample_indices]\n",
    "\n",
    "for i in range(sample_size):\n",
    "    print()\n",
    "    print(f\"sample {i}:\")\n",
    "    print(f\"original: {refs[sample_indices[i]]}\")\n",
    "    print(f\"reconstructed clean: {res_clean_sample[i]['reconstructed']}  ({res_clean_sample[i]['sim']:.4f})\")\n",
    "    print(f\"reconstructed robust: {res_robust_sample[i]['reconstructed']}  ({res_robust_sample[i]['sim']:.4f})\")\n",
    "    print()"
   ],
   "id": "aecc147fe1229789",
   "outputs": [
    {
     "name": "stdout",
     "output_type": "stream",
     "text": [
      "\n",
      "sample 0:\n",
      "original: A car and a public transit vehicle on a road.\n",
      "reconstructed clean: public transit car alongside a vehicle amongst partially road road .\"  (0.9270)\n",
      "reconstructed robust: jrnotified car and transit vehicle sit on a road ).   (0.9338)\n",
      "\n",
      "\n",
      "sample 1:\n",
      "original: An image of a hotel bathroom that is ugly.\n",
      "reconstructed clean: ugly bathroom demonstrating poorly gross envirтkhobbhutto�  (0.8109)\n",
      "reconstructed robust: ugly hotel bathroom showcasing concerns resemble �▂�magbbhutto.   (0.9489)\n",
      "\n",
      "\n",
      "sample 2:\n",
      "original: An older picture of a large kitchen with white appliances.\n",
      "reconstructed clean: older earliest appenhistorical archival picture featuring older smaller large kitchen   (0.7671)\n",
      "reconstructed robust: large kitchen pictured prior a a looked white appliances unidenti).   (0.9173)\n",
      "\n",
      "\n",
      "sample 3:\n",
      "original: A girl sitting on a bench in front of a stone wall.\n",
      "reconstructed clean: prepped amina ssels sitting sitting bench near stone textured wall 🤟girl girl   (0.8355)\n",
      "reconstructed robust: laghateparth girl twitart bench sitting outside a stone wall �▂▂▂▹.\"  (0.9546)\n",
      "\n",
      "\n",
      "sample 4:\n",
      "original: A clean kitchen with the windows white and open.\n",
      "reconstructed clean: behold beautiful windows bein somewhere '; whitebeautifully clean kitchen   (0.8316)\n",
      "reconstructed robust: a a kitchen with windows white wit yet clean .   (0.9668)\n",
      "\n",
      "\n",
      "sample 5:\n",
      "original: Two women waiting at a bench next to a street.\n",
      "reconstructed clean: </ </ \": </ ,' two women waiting bench against street   (0.9297)\n",
      "reconstructed robust: : two women waiting at an street bench �▂�bbcone .   (0.9778)\n",
      "\n",
      "\n",
      "sample 6:\n",
      "original: An office cubicle with four different types of computers.\n",
      "reconstructed clean: four various computically cubicè compu�▂�their desktop desk parked   (0.8268)\n",
      "reconstructed robust: office cubic�▂��eczw with four different computers either   (0.9393)\n",
      "\n",
      "\n",
      "sample 7:\n",
      "original: An old victorian style bed frame in a bedroom.\n",
      "reconstructed clean: old ornate victorian bed showcasing �▂�wouldfeeold ).   (0.8521)\n",
      "reconstructed robust: victorian finornate bed frame placed in a bedroom .   (0.9582)\n",
      "\n",
      "\n",
      "sample 8:\n",
      "original: A striped plane flying up into the sky as the sun shines behind it.\n",
      "reconstructed clean: a sized </ wildly crafted plane near dramatically dramatically sun sunlight stripes approaching upward underneath   (0.8989)\n",
      "reconstructed robust: a striped �▂▂▂�^up plane coming above into sun �▂�وsky .   (0.9586)\n",
      "\n",
      "\n",
      "sample 9:\n",
      "original: A cat in between two cars in a parking lot.\n",
      "reconstructed clean: seemingly domestic cat sits standing among two cars in parking %.   (0.9075)\n",
      "reconstructed robust: cat between two �▂�four cars docked paved parking lot .   (0.9476)\n",
      "\n"
     ]
    }
   ],
   "execution_count": 5
  },
  {
   "metadata": {
    "ExecuteTime": {
     "end_time": "2025-04-29T06:18:38.318950Z",
     "start_time": "2025-04-29T06:18:38.317140Z"
    }
   },
   "cell_type": "code",
   "source": "",
   "id": "a1e5052605433c93",
   "outputs": [],
   "execution_count": null
  },
  {
   "metadata": {},
   "cell_type": "code",
   "outputs": [],
   "execution_count": null,
   "source": "",
   "id": "b2ee5949a3cca023"
  },
  {
   "metadata": {
    "ExecuteTime": {
     "end_time": "2025-05-07T07:00:08.667507Z",
     "start_time": "2025-05-07T07:00:08.568283Z"
    }
   },
   "cell_type": "code",
   "source": [
    "import os\n",
    "import json\n",
    "import numpy as np\n",
    "\n",
    "REF_CAPTIONS_PATH = \"coco_captions.txt\"  # currently unused but kept for context\n",
    "RECONSTRUCTIONS_DIR = \"/mnt/cschlarmann37/project_bimodal-robust-clip/results_inversions\"\n",
    "\n",
    "FILES = {\n",
    "    \"vith_clean\": \"results-100smpls-3000iters-ViT-H-14-clean.json\",\n",
    "    \"vith_robust\": \"results-100smpls-3000iters-ViT-H-14-robust.json\",\n",
    "    \"vitg_clean\": \"results-100smpls-3000iters-ViT-g-14-clean.json\",\n",
    "    \"vitg_robust\": \"results-100smpls-3000iters-ViT-g-14-robust.json\",\n",
    "}\n",
    "\n",
    "\n",
    "# ---- helpers ---------------------------------------------------------------\n",
    "\n",
    "def load_results(key: str):\n",
    "    \"\"\"Load the list of inversion results for a given key in FILES.\"\"\"\n",
    "    path = os.path.join(RECONSTRUCTIONS_DIR, FILES[key])\n",
    "    with open(path, \"r\") as f:\n",
    "        return json.load(f)[\"results\"]\n",
    "\n",
    "replacements = {\n",
    "\n",
    "    \"\": \"️\"\n",
    "}\n",
    "def latex_escape(text: str) -> str:\n",
    "    \"\"\"Escape minimal set of special LaTeX characters likely to appear.\"\"\"\n",
    "    specials = {\n",
    "        \"&\": r\"\\&\",\n",
    "        \"%\": r\"\\%\",\n",
    "        \"_\": r\"\\_\",\n",
    "        \"#\": r\"\\#\",\n",
    "        \"$\": r\"\\$\",\n",
    "        \"^\": r\"\\^\",\n",
    "        \"🤟\": r\"[U+1F91F]\", #r\"\\emoji{love-you-gesture}\",\n",
    "        \"と繋\": r\"\\begin{CJK}{UTF8}{min}と繋\\end{CJK}\",\n",
    "        \"▹\": r\"$\\triangleright$\",\n",
    "        \"т\": r\"[U+0442]\",  #r\"\\foreignlanguage{russian}{т}\",\n",
    "        \"و\": \"[U+0648]\",\n",
    "        \"�▂�\": \"?\",\n",
    "        \"�▂▂▂�\": \"??\",\n",
    "        \"▂▂▂\": \"?\",\n",
    "        \"�\": \"?\",\n",
    "\n",
    "    }\n",
    "    for k, v in specials.items():\n",
    "        text = text.replace(k, v)\n",
    "    return text\n",
    "\n",
    "# ---- load data -------------------------------------------------------------\n",
    "\n",
    "res_vith_clean = load_results(\"vith_clean\")\n",
    "res_vith_robust = load_results(\"vith_robust\")\n",
    "res_vitg_clean = load_results(\"vitg_clean\")\n",
    "res_vitg_robust = load_results(\"vitg_robust\")\n",
    "\n",
    "# ensure all lists share identical ordering of references\n",
    "refs = [r[\"original\"] for r in res_vith_clean]\n",
    "assert refs == [r[\"original\"] for r in res_vith_robust] == \\\n",
    "       [r[\"original\"] for r in res_vitg_clean] == \\\n",
    "       [r[\"original\"] for r in res_vitg_robust], \"Reference captions differ across files!\"\n",
    "\n",
    "# ---- get random sample -----------------------------------------------------\n",
    "\n",
    "SAMPLE_SIZE = 10\n",
    "rng = np.random.default_rng(0)\n",
    "idx_sample = rng.choice(len(refs), size=SAMPLE_SIZE, replace=False)\n",
    "\n",
    "# ---- pretty‑print individual samples ---------------------------------------\n",
    "\n",
    "for i, idx in enumerate(idx_sample):\n",
    "    print(\"\\n\" + \"-\" * 80)\n",
    "    print(f\"sample {i} (idx={idx}):\")\n",
    "    print(f\"original               : {refs[idx]}\")\n",
    "    print(f\"reconstructed vith clean: {res_vith_clean[idx]['reconstructed']}  (sim={res_vith_clean[idx]['sim']:.4f})\")\n",
    "    print(\n",
    "        f\"reconstructed vith robust: {res_vith_robust[idx]['reconstructed']}  (sim={res_vith_robust[idx]['sim']:.4f})\"\n",
    "        )\n",
    "    print(f\"reconstructed vitg clean: {res_vitg_clean[idx]['reconstructed']}  (sim={res_vitg_clean[idx]['sim']:.4f})\")\n",
    "    print(\n",
    "        f\"reconstructed vitg robust: {res_vitg_robust[idx]['reconstructed']}  (sim={res_vitg_robust[idx]['sim']:.4f})\"\n",
    "        )"
   ],
   "id": "6f165c3380cdf3d9",
   "outputs": [
    {
     "name": "stdout",
     "output_type": "stream",
     "text": [
      "\n",
      "--------------------------------------------------------------------------------\n",
      "sample 0 (idx=77):\n",
      "original               : A car and a public transit vehicle on a road.\n",
      "reconstructed vith clean: public transit car alongside a vehicle amongst partially road road .\"  (sim=0.9270)\n",
      "reconstructed vith robust: jrnotified car and transit vehicle sit on a road ).   (sim=0.9338)\n",
      "reconstructed vitg clean: partially tionally car sits alongside alongside roads public transit vehicle '.   (sim=0.9171)\n",
      "reconstructed vitg robust: a car and eachother and a roadway public transit vehicle .   (sim=0.9701)\n",
      "\n",
      "--------------------------------------------------------------------------------\n",
      "sample 1 (idx=81):\n",
      "original               : An image of a hotel bathroom that is ugly.\n",
      "reconstructed vith clean: ugly bathroom demonstrating poorly gross envirтkhobbhutto�  (sim=0.8109)\n",
      "reconstructed vith robust: ugly hotel bathroom showcasing concerns resemble �▂�magbbhutto.   (sim=0.9489)\n",
      "reconstructed vitg clean: apparent nicely tered hotel bathroom containing looking ugly pfmage   (sim=0.9483)\n",
      "reconstructed vitg robust: image of a ugly と繋�* an hotel bathroom .   (sim=0.9825)\n",
      "\n",
      "--------------------------------------------------------------------------------\n",
      "sample 2 (idx=58):\n",
      "original               : An older picture of a large kitchen with white appliances.\n",
      "reconstructed vith clean: older earliest appenhistorical archival picture featuring older smaller large kitchen   (sim=0.7671)\n",
      "reconstructed vith robust: large kitchen pictured prior a a looked white appliances unidenti).   (sim=0.9173)\n",
      "reconstructed vitg clean: a large kitchen photographed before that wasn resembtedly older .   (sim=0.8933)\n",
      "reconstructed vitg robust: large old whil, an kitchen featuring ✊reaswhite appliances   (sim=0.9325)\n",
      "\n",
      "--------------------------------------------------------------------------------\n",
      "sample 3 (idx=47):\n",
      "original               : A girl sitting on a bench in front of a stone wall.\n",
      "reconstructed vith clean: prepped amina ssels sitting sitting bench near stone textured wall 🤟girl girl   (sim=0.8355)\n",
      "reconstructed vith robust: laghateparth girl twitart bench sitting outside a stone wall �▂▂▂▹.\"  (sim=0.9546)\n",
      "reconstructed vitg clean: girl near stone wall in a bench aciantly sitting tedly tedly ).   (sim=0.9631)\n",
      "reconstructed vitg robust: girl sitting while a stone wall sits alongside an bench a <end_of_text>).   (sim=0.9781)\n",
      "\n",
      "--------------------------------------------------------------------------------\n",
      "sample 4 (idx=25):\n",
      "original               : A clean kitchen with the windows white and open.\n",
      "reconstructed vith clean: behold beautiful windows bein somewhere '; whitebeautifully clean kitchen   (sim=0.8316)\n",
      "reconstructed vith robust: a a kitchen with windows white wit yet clean .   (sim=0.9668)\n",
      "reconstructed vitg clean: view of a white kitchen and nicely clean windows .   (sim=0.9612)\n",
      "reconstructed vitg robust: an clean and white kitchen with windows thwindows .   (sim=0.9763)\n",
      "\n",
      "--------------------------------------------------------------------------------\n",
      "sample 5 (idx=3):\n",
      "original               : Two women waiting at a bench next to a street.\n",
      "reconstructed vith clean: </ </ \": </ ,' two women waiting bench against street   (sim=0.9297)\n",
      "reconstructed vith robust: : two women waiting at an street bench �▂�bbcone .   (sim=0.9778)\n",
      "reconstructed vitg clean: along a street bench . two women crouwaited stares .   (sim=0.9567)\n",
      "reconstructed vitg robust: :// ; two women wait a street while bench outside .   (sim=0.9806)\n",
      "\n",
      "--------------------------------------------------------------------------------\n",
      "sample 6 (idx=1):\n",
      "original               : An office cubicle with four different types of computers.\n",
      "reconstructed vith clean: four various computically cubicè compu�▂�their desktop desk parked   (sim=0.8268)\n",
      "reconstructed vith robust: office cubic�▂��eczw with four different computers either   (sim=0.9393)\n",
      "reconstructed vitg clean: office cubicle depicting four various different computers alongside paysoff ).   (sim=0.9664)\n",
      "reconstructed vitg robust: office cubicle containing an workplace with four different types computers   (sim=0.9728)\n",
      "\n",
      "--------------------------------------------------------------------------------\n",
      "sample 7 (idx=29):\n",
      "original               : An old victorian style bed frame in a bedroom.\n",
      "reconstructed vith clean: old ornate victorian bed showcasing �▂�wouldfeeold ).   (sim=0.8521)\n",
      "reconstructed vith robust: victorian finornate bed frame placed in a bedroom .   (sim=0.9582)\n",
      "reconstructed vitg clean: eighsundaymotivation throwback© �shutterintimacy \"; victorian bed   (sim=0.8205)\n",
      "reconstructed vitg robust: a victorian style bed frame uas in a bedroom .   (sim=0.9837)\n",
      "\n",
      "--------------------------------------------------------------------------------\n",
      "sample 8 (idx=17):\n",
      "original               : A striped plane flying up into the sky as the sun shines behind it.\n",
      "reconstructed vith clean: a sized </ wildly crafted plane near dramatically dramatically sun sunlight stripes approaching upward underneath   (sim=0.8989)\n",
      "reconstructed vith robust: a striped �▂▂▂�^up plane coming above into sun �▂�وsky .   (sim=0.9586)\n",
      "reconstructed vitg clean: nearly seemingly seemingly oooooooo a striped ambitious plane being flying into sky with sun light   (sim=0.9552)\n",
      "reconstructed vitg robust: a striped plane being flying over above , but shining sun enguliot ung behind   (sim=0.9771)\n",
      "\n",
      "--------------------------------------------------------------------------------\n",
      "sample 9 (idx=7):\n",
      "original               : A cat in between two cars in a parking lot.\n",
      "reconstructed vith clean: seemingly domestic cat sits standing among two cars in parking %.   (sim=0.9075)\n",
      "reconstructed vith robust: cat between two �▂�four cars docked paved parking lot .   (sim=0.9476)\n",
      "reconstructed vitg clean: cat sitting through parked parking lot ?) alongside two two cars   (sim=0.9564)\n",
      "reconstructed vitg robust: cat sits in an parking lot between two cars either ).   (sim=0.9673)\n"
     ]
    }
   ],
   "execution_count": 1
  },
  {
   "metadata": {
    "ExecuteTime": {
     "end_time": "2025-05-07T07:00:08.765718Z",
     "start_time": "2025-05-07T07:00:08.761742Z"
    }
   },
   "cell_type": "code",
   "source": [
    "def clean_word(word):\n",
    "    word = word.lower()\n",
    "    word = word.replace(\".\", \"\")\n",
    "    return word\n",
    "\n",
    "def get_highlighting(original, reconstructed_clean, reconstructed_robust):\n",
    "    \"\"\"Highlight words in original that are reconstructed clean and not robust and vice versa.\"\"\"\n",
    "    orig_words = original.split()\n",
    "    rec_clean_words = reconstructed_clean.lower().split()\n",
    "    rec_robust_words = reconstructed_robust.lower().split()\n",
    "    orig_words_highlighted = []\n",
    "    for word in orig_words:\n",
    "        if clean_word(word) in rec_clean_words and clean_word(word) not in rec_robust_words:\n",
    "            # in clean but not in robust -> highlight teal\n",
    "            orig_words_highlighted.append(rf\"\\colorbox{{teal!30}}{{{word}}}\")\n",
    "        elif clean_word(word) in rec_robust_words and clean_word(word) not in rec_clean_words:\n",
    "            # in robust but not in clean -> highlight red\n",
    "            orig_words_highlighted.append(rf\"\\colorbox{{red!30}}{{{word}}}\")\n",
    "        elif clean_word(word) not in rec_clean_words and clean_word(word) not in rec_robust_words:\n",
    "            # not in either -> highlight yellow\n",
    "            orig_words_highlighted.append(rf\"\\colorbox{{yellow!40}}{{{word}}}\")\n",
    "        else:\n",
    "            # in both -> no highlight\n",
    "            orig_words_highlighted.append(word)\n",
    "    return \" \".join(orig_words_highlighted)"
   ],
   "id": "114a8224f0ba6688",
   "outputs": [],
   "execution_count": 2
  },
  {
   "metadata": {},
   "cell_type": "markdown",
   "source": "### Single Table",
   "id": "40f328aed62b0c0a"
  },
  {
   "metadata": {
    "ExecuteTime": {
     "end_time": "2025-05-06T09:18:24.659688Z",
     "start_time": "2025-05-06T09:18:24.653106Z"
    }
   },
   "cell_type": "code",
   "source": [
    "\n",
    "\n",
    "# ---- print LaTeX table -----------------------------------------------------\n",
    "# print(\"\\nLaTeX table (copy & paste):\\n\")\n",
    "print(r\"\\begin{tabular}{lclll}\")\n",
    "print(r\"    \\toprule\")\n",
    "print(r\"     Original & Robust & Reconstructed ViT-H/14 & Reconstructed ViT-g/14 \\\\\")\n",
    "print(r\"     \\midrule\")\n",
    "\n",
    "for i, idx in enumerate(idx_sample):\n",
    "    orig = get_highlighting(original=refs[idx], reconstructed_clean=res_vitg_clean[idx][\"reconstructed\"], reconstructed_robust=res_vitg_robust[idx][\"reconstructed\"])\n",
    "    orig = latex_escape(orig)\n",
    "    mark = r\"\\xmark\"\n",
    "    rec_h_clean = latex_escape(res_vith_clean[idx][\"reconstructed\"])\n",
    "    rec_g_clean = latex_escape(res_vitg_clean[idx][\"reconstructed\"])\n",
    "    row = (\n",
    "        fr\"     \\multirow{{2}}{{*}}{{\\begin{{minipage}}{{\\cwidth}}{orig}\\end{{minipage}}}} & \"\n",
    "        fr\"{mark} & \"\n",
    "        fr\"\\begin{{minipage}}{{\\cwidth}}{rec_h_clean}\\end{{minipage}} & \"\n",
    "        fr\"\\begin{{minipage}}{{\\cwidth}}{rec_g_clean}\\end{{minipage}} \\\\[10pt]\")\n",
    "    print(row)\n",
    "    print(r\"     \\cmidrule(lr){2-4}\")\n",
    "    mark = r\"\\cmark\"\n",
    "    rec_h_robust = latex_escape(res_vith_robust[idx][\"reconstructed\"])\n",
    "    rec_g_robust = latex_escape(res_vitg_robust[idx][\"reconstructed\"])\n",
    "    row = (\n",
    "        fr\" & \"\n",
    "        fr\"{mark} & \"\n",
    "        fr\"\\begin{{minipage}}{{\\cwidth}}{rec_h_robust}\\end{{minipage}} & \"\n",
    "        fr\"\\begin{{minipage}}{{\\cwidth}}{rec_g_robust}\\end{{minipage}} \\\\[10pt]\")\n",
    "    print(row)\n",
    "    print(r\"     \\midrule\") if i < len(idx_sample) - 1 else None\n",
    "print(r\"     \\bottomrule\")\n",
    "print(r\"\\end{tabular}\")"
   ],
   "id": "9db834bf7ad3497c",
   "outputs": [
    {
     "name": "stdout",
     "output_type": "stream",
     "text": [
      "\\begin{tabular}{lclll}\n",
      "    \\toprule\n",
      "     Original & Robust & Reconstructed ViT-H/14 & Reconstructed ViT-g/14 \\\\\n",
      "     \\midrule\n",
      "     \\multirow{2}{*}{\\begin{minipage}{\\cwidth}\\colorbox{red!30}{A} car \\colorbox{red!30}{and} \\colorbox{red!30}{a} public transit vehicle \\colorbox{yellow!40}{on} \\colorbox{red!30}{a} \\colorbox{yellow!40}{road.}\\end{minipage}} & \\xmark & \\begin{minipage}{\\cwidth}public transit car alongside a vehicle amongst partially road road .\"\\end{minipage} & \\begin{minipage}{\\cwidth}partially tionally car sits alongside alongside roads public transit vehicle '. \\end{minipage} \\\\[10pt]\n",
      "     \\cmidrule(lr){2-4}\n",
      " & \\cmark & \\begin{minipage}{\\cwidth}jrnotified car and transit vehicle sit on a road ). \\end{minipage} & \\begin{minipage}{\\cwidth}a car and eachother and a roadway public transit vehicle . \\end{minipage} \\\\[10pt]\n",
      "     \\midrule\n",
      "     \\multirow{2}{*}{\\begin{minipage}{\\cwidth}\\colorbox{red!30}{An} \\colorbox{red!30}{image} \\colorbox{red!30}{of} \\colorbox{red!30}{a} hotel bathroom \\colorbox{yellow!40}{that} \\colorbox{yellow!40}{is} ugly.\\end{minipage}} & \\xmark & \\begin{minipage}{\\cwidth}ugly bathroom demonstrating poorly gross envirтkhobbhutto?\\end{minipage} & \\begin{minipage}{\\cwidth}apparent nicely tered hotel bathroom containing looking ugly pfmage \\end{minipage} \\\\[10pt]\n",
      "     \\cmidrule(lr){2-4}\n",
      " & \\cmark & \\begin{minipage}{\\cwidth}ugly hotel bathroom showcasing concerns resemble ?magbbhutto. \\end{minipage} & \\begin{minipage}{\\cwidth}image of a ugly \\begin{CJK}{UTF8}{min}と繋\\end{CJK}?* an hotel bathroom . \\end{minipage} \\\\[10pt]\n",
      "     \\midrule\n",
      "     \\multirow{2}{*}{\\begin{minipage}{\\cwidth}\\colorbox{red!30}{An} \\colorbox{teal!30}{older} \\colorbox{yellow!40}{picture} \\colorbox{yellow!40}{of} \\colorbox{teal!30}{a} large kitchen \\colorbox{yellow!40}{with} \\colorbox{yellow!40}{white} \\colorbox{red!30}{appliances.}\\end{minipage}} & \\xmark & \\begin{minipage}{\\cwidth}older earliest appenhistorical archival picture featuring older smaller large kitchen \\end{minipage} & \\begin{minipage}{\\cwidth}a large kitchen photographed before that wasn resembtedly older . \\end{minipage} \\\\[10pt]\n",
      "     \\cmidrule(lr){2-4}\n",
      " & \\cmark & \\begin{minipage}{\\cwidth}large kitchen pictured prior a a looked white appliances unidenti). \\end{minipage} & \\begin{minipage}{\\cwidth}large old whil, an kitchen featuring ✊reaswhite appliances \\end{minipage} \\\\[10pt]\n",
      "     \\midrule\n",
      "     \\multirow{2}{*}{\\begin{minipage}{\\cwidth}A girl sitting \\colorbox{yellow!40}{on} a bench \\colorbox{teal!30}{in} \\colorbox{yellow!40}{front} \\colorbox{yellow!40}{of} a stone wall.\\end{minipage}} & \\xmark & \\begin{minipage}{\\cwidth}prepped amina ssels sitting sitting bench near stone textured wall [U+1F91F]]️girl girl \\end{minipage} & \\begin{minipage}{\\cwidth}girl near stone wall in a bench aciantly sitting tedly tedly ). \\end{minipage} \\\\[10pt]\n",
      "     \\cmidrule(lr){2-4}\n",
      " & \\cmark & \\begin{minipage}{\\cwidth}laghateparth girl twitart bench sitting outside a stone wall ??$\\triangleright$.\"\\end{minipage} & \\begin{minipage}{\\cwidth}girl sitting while a stone wall sits alongside an bench a <end\\_of\\_text>). \\end{minipage} \\\\[10pt]\n",
      "     \\midrule\n",
      "     \\multirow{2}{*}{\\begin{minipage}{\\cwidth}\\colorbox{teal!30}{A} clean kitchen \\colorbox{red!30}{with} \\colorbox{yellow!40}{the} windows white and \\colorbox{yellow!40}{open.}\\end{minipage}} & \\xmark & \\begin{minipage}{\\cwidth}behold beautiful windows bein somewhere '; whitebeautifully clean kitchen \\end{minipage} & \\begin{minipage}{\\cwidth}view of a white kitchen and nicely clean windows . \\end{minipage} \\\\[10pt]\n",
      "     \\cmidrule(lr){2-4}\n",
      " & \\cmark & \\begin{minipage}{\\cwidth}a a kitchen with windows white wit yet clean . \\end{minipage} & \\begin{minipage}{\\cwidth}an clean and white kitchen with windows thwindows . \\end{minipage} \\\\[10pt]\n",
      "     \\midrule\n",
      "     \\multirow{2}{*}{\\begin{minipage}{\\cwidth}Two women \\colorbox{yellow!40}{waiting} \\colorbox{yellow!40}{at} a bench \\colorbox{yellow!40}{next} \\colorbox{yellow!40}{to} a street.\\end{minipage}} & \\xmark & \\begin{minipage}{\\cwidth}</ </ \": </ ,' two women waiting bench against street \\end{minipage} & \\begin{minipage}{\\cwidth}along a street bench . two women crouwaited stares . \\end{minipage} \\\\[10pt]\n",
      "     \\cmidrule(lr){2-4}\n",
      " & \\cmark & \\begin{minipage}{\\cwidth}: two women waiting at an street bench ?bbcone . \\end{minipage} & \\begin{minipage}{\\cwidth}:// ; two women wait a street while bench outside . \\end{minipage} \\\\[10pt]\n",
      "     \\midrule\n",
      "     \\multirow{2}{*}{\\begin{minipage}{\\cwidth}\\colorbox{red!30}{An} office cubicle \\colorbox{red!30}{with} four different \\colorbox{red!30}{types} \\colorbox{yellow!40}{of} computers.\\end{minipage}} & \\xmark & \\begin{minipage}{\\cwidth}four various computically cubicè compu?their desktop desk parked \\end{minipage} & \\begin{minipage}{\\cwidth}office cubicle depicting four various different computers alongside paysoff ). \\end{minipage} \\\\[10pt]\n",
      "     \\cmidrule(lr){2-4}\n",
      " & \\cmark & \\begin{minipage}{\\cwidth}office cubic??eczw with four different computers either \\end{minipage} & \\begin{minipage}{\\cwidth}office cubicle containing an workplace with four different types computers \\end{minipage} \\\\[10pt]\n",
      "     \\midrule\n",
      "     \\multirow{2}{*}{\\begin{minipage}{\\cwidth}\\colorbox{yellow!40}{An} \\colorbox{yellow!40}{old} victorian \\colorbox{red!30}{style} bed \\colorbox{red!30}{frame} \\colorbox{red!30}{in} \\colorbox{red!30}{a} \\colorbox{red!30}{bedroom.}\\end{minipage}} & \\xmark & \\begin{minipage}{\\cwidth}old ornate victorian bed showcasing ?wouldfeeold ). \\end{minipage} & \\begin{minipage}{\\cwidth}eighsundaymotivation throwback© ?shutterintimacy \"; victorian bed \\end{minipage} \\\\[10pt]\n",
      "     \\cmidrule(lr){2-4}\n",
      " & \\cmark & \\begin{minipage}{\\cwidth}victorian finornate bed frame placed in a bedroom . \\end{minipage} & \\begin{minipage}{\\cwidth}a victorian style bed frame uas in a bedroom . \\end{minipage} \\\\[10pt]\n",
      "     \\midrule\n",
      "     \\multirow{2}{*}{\\begin{minipage}{\\cwidth}A striped plane flying \\colorbox{yellow!40}{up} \\colorbox{teal!30}{into} \\colorbox{yellow!40}{the} \\colorbox{teal!30}{sky} \\colorbox{yellow!40}{as} \\colorbox{yellow!40}{the} sun \\colorbox{yellow!40}{shines} \\colorbox{red!30}{behind} \\colorbox{yellow!40}{it.}\\end{minipage}} & \\xmark & \\begin{minipage}{\\cwidth}a sized </ wildly crafted plane near dramatically dramatically sun sunlight stripes approaching upward underneath \\end{minipage} & \\begin{minipage}{\\cwidth}nearly seemingly seemingly oooooooo a striped ambitious plane being flying into sky with sun light \\end{minipage} \\\\[10pt]\n",
      "     \\cmidrule(lr){2-4}\n",
      " & \\cmark & \\begin{minipage}{\\cwidth}a striped ??\\^up plane coming above into sun ?وsky . \\end{minipage} & \\begin{minipage}{\\cwidth}a striped plane being flying over above , but shining sun enguliot ung behind \\end{minipage} \\\\[10pt]\n",
      "     \\midrule\n",
      "     \\multirow{2}{*}{\\begin{minipage}{\\cwidth}\\colorbox{yellow!40}{A} cat \\colorbox{red!30}{in} \\colorbox{red!30}{between} two cars \\colorbox{red!30}{in} \\colorbox{yellow!40}{a} parking lot.\\end{minipage}} & \\xmark & \\begin{minipage}{\\cwidth}seemingly domestic cat sits standing among two cars in parking \\%. \\end{minipage} & \\begin{minipage}{\\cwidth}cat sitting through parked parking lot ?) alongside two two cars \\end{minipage} \\\\[10pt]\n",
      "     \\cmidrule(lr){2-4}\n",
      " & \\cmark & \\begin{minipage}{\\cwidth}cat between two ?four cars docked paved parking lot . \\end{minipage} & \\begin{minipage}{\\cwidth}cat sits in an parking lot between two cars either ). \\end{minipage} \\\\[10pt]\n",
      "     \\bottomrule\n",
      "\\end{tabular}\n"
     ]
    }
   ],
   "execution_count": 19
  },
  {
   "metadata": {},
   "cell_type": "code",
   "outputs": [],
   "execution_count": null,
   "source": "",
   "id": "f88750231ae5aea2"
  },
  {
   "metadata": {},
   "cell_type": "markdown",
   "source": "### Two Tables",
   "id": "21c567b42a15eec7"
  },
  {
   "metadata": {
    "ExecuteTime": {
     "end_time": "2025-05-07T07:14:25.279274Z",
     "start_time": "2025-05-07T07:14:25.273312Z"
    }
   },
   "cell_type": "code",
   "source": [
    "\n",
    "\n",
    "# ---- print LaTeX table -----------------------------------------------------\n",
    "# print(\"\\nLaTeX table (copy & paste):\\n\")\n",
    "print(r\"\\begin{tabular}{lcll}\")\n",
    "print(r\"    \\toprule\")\n",
    "print(r\"     Original & Robust & Reconstructed ViT-H/14 \\\\\")\n",
    "print(r\"     \\midrule\")\n",
    "\n",
    "for i, idx in enumerate(idx_sample):\n",
    "    orig = get_highlighting(original=refs[idx], reconstructed_clean=res_vith_clean[idx][\"reconstructed\"], reconstructed_robust=res_vith_robust[idx][\"reconstructed\"])\n",
    "    orig = latex_escape(orig)\n",
    "    mark = r\"\\xmark\"\n",
    "    rec_h_clean = latex_escape(res_vith_clean[idx][\"reconstructed\"])\n",
    "    # rec_g_clean = latex_escape(res_vitg_clean[idx][\"reconstructed\"])\n",
    "    row = (\n",
    "        fr\"     \\multirow{{2}}{{*}}{{\\begin{{minipage}}{{\\cwidthorig}}{orig}\\end{{minipage}}}} & \"\n",
    "        fr\"{mark} & \"\n",
    "        fr\"\\begin{{minipage}}{{\\cwidthrec}}{rec_h_clean}\\end{{minipage}} \\\\[10pt]\"\n",
    "        # fr\"\\begin{{minipage}}{{\\cwidth}}{rec_g_clean}\\end{{minipage}} \\\\[10pt]\"\n",
    "        )\n",
    "    print(row)\n",
    "    print(r\"     \\cmidrule(lr){2-3}\")\n",
    "    mark = r\"\\cmark\"\n",
    "    rec_h_robust = latex_escape(res_vith_robust[idx][\"reconstructed\"])\n",
    "    # rec_g_robust = latex_escape(res_vitg_robust[idx][\"reconstructed\"])\n",
    "    row = (\n",
    "        fr\" & \"\n",
    "        fr\"{mark} & \"\n",
    "        fr\"\\begin{{minipage}}{{\\cwidthrec}}{rec_h_robust}\\end{{minipage}} \\\\[10pt]\"\n",
    "        # fr\"\\begin{{minipage}}{{\\cwidth}}{rec_g_robust}\\end{{minipage}} \\\\[10pt]\"\n",
    "    )\n",
    "    print(row)\n",
    "    print(r\"     \\midrule\") if i < len(idx_sample) - 1 else None\n",
    "print(r\"     \\bottomrule\")\n",
    "print(r\"\\end{tabular}\")"
   ],
   "id": "c86481a2fe92d5ab",
   "outputs": [
    {
     "name": "stdout",
     "output_type": "stream",
     "text": [
      "\\begin{tabular}{lcll}\n",
      "    \\toprule\n",
      "     Original & Robust & Reconstructed ViT-H/14 \\\\\n",
      "     \\midrule\n",
      "     \\multirow{2}{*}{\\begin{minipage}{\\cwidthorig}A car \\colorbox{red!30}{and} a \\colorbox{teal!30}{public} transit vehicle \\colorbox{red!30}{on} a road.\\end{minipage}} & \\xmark & \\begin{minipage}{\\cwidthrec}public transit car alongside a vehicle amongst partially road road .\"\\end{minipage} \\\\[10pt]\n",
      "     \\cmidrule(lr){2-3}\n",
      " & \\cmark & \\begin{minipage}{\\cwidthrec}jrnotified car and transit vehicle sit on a road ). \\end{minipage} \\\\[10pt]\n",
      "     \\midrule\n",
      "     \\multirow{2}{*}{\\begin{minipage}{\\cwidthorig}\\colorbox{yellow!40}{An} \\colorbox{yellow!40}{image} \\colorbox{yellow!40}{of} \\colorbox{yellow!40}{a} \\colorbox{red!30}{hotel} bathroom \\colorbox{yellow!40}{that} \\colorbox{yellow!40}{is} ugly.\\end{minipage}} & \\xmark & \\begin{minipage}{\\cwidthrec}ugly bathroom demonstrating poorly gross envir\\foreignlanguage{russian}{т}khobbhutto?\\end{minipage} \\\\[10pt]\n",
      "     \\cmidrule(lr){2-3}\n",
      " & \\cmark & \\begin{minipage}{\\cwidthrec}ugly hotel bathroom showcasing concerns resemble ?magbbhutto. \\end{minipage} \\\\[10pt]\n",
      "     \\midrule\n",
      "     \\multirow{2}{*}{\\begin{minipage}{\\cwidthorig}\\colorbox{yellow!40}{An} \\colorbox{teal!30}{older} \\colorbox{teal!30}{picture} \\colorbox{yellow!40}{of} \\colorbox{red!30}{a} large kitchen \\colorbox{yellow!40}{with} \\colorbox{red!30}{white} \\colorbox{red!30}{appliances.}\\end{minipage}} & \\xmark & \\begin{minipage}{\\cwidthrec}older earliest appenhistorical archival picture featuring older smaller large kitchen \\end{minipage} \\\\[10pt]\n",
      "     \\cmidrule(lr){2-3}\n",
      " & \\cmark & \\begin{minipage}{\\cwidthrec}large kitchen pictured prior a a looked white appliances unidenti). \\end{minipage} \\\\[10pt]\n",
      "     \\midrule\n",
      "     \\multirow{2}{*}{\\begin{minipage}{\\cwidthorig}\\colorbox{red!30}{A} girl sitting \\colorbox{yellow!40}{on} \\colorbox{red!30}{a} bench \\colorbox{yellow!40}{in} \\colorbox{yellow!40}{front} \\colorbox{yellow!40}{of} \\colorbox{red!30}{a} stone wall.\\end{minipage}} & \\xmark & \\begin{minipage}{\\cwidthrec}prepped amina ssels sitting sitting bench near stone textured wall [U+1F91F]]️girl girl \\end{minipage} \\\\[10pt]\n",
      "     \\cmidrule(lr){2-3}\n",
      " & \\cmark & \\begin{minipage}{\\cwidthrec}laghateparth girl twitart bench sitting outside a stone wall ??$\\triangleright$.\"\\end{minipage} \\\\[10pt]\n",
      "     \\midrule\n",
      "     \\multirow{2}{*}{\\begin{minipage}{\\cwidthorig}\\colorbox{red!30}{A} clean kitchen \\colorbox{red!30}{with} \\colorbox{yellow!40}{the} windows \\colorbox{red!30}{white} \\colorbox{yellow!40}{and} \\colorbox{yellow!40}{open.}\\end{minipage}} & \\xmark & \\begin{minipage}{\\cwidthrec}behold beautiful windows bein somewhere '; whitebeautifully clean kitchen \\end{minipage} \\\\[10pt]\n",
      "     \\cmidrule(lr){2-3}\n",
      " & \\cmark & \\begin{minipage}{\\cwidthrec}a a kitchen with windows white wit yet clean . \\end{minipage} \\\\[10pt]\n",
      "     \\midrule\n",
      "     \\multirow{2}{*}{\\begin{minipage}{\\cwidthorig}Two women waiting \\colorbox{red!30}{at} \\colorbox{yellow!40}{a} bench \\colorbox{yellow!40}{next} \\colorbox{yellow!40}{to} \\colorbox{yellow!40}{a} street.\\end{minipage}} & \\xmark & \\begin{minipage}{\\cwidthrec}</ </ \": </ ,' two women waiting bench against street \\end{minipage} \\\\[10pt]\n",
      "     \\cmidrule(lr){2-3}\n",
      " & \\cmark & \\begin{minipage}{\\cwidthrec}: two women waiting at an street bench ?bbcone . \\end{minipage} \\\\[10pt]\n",
      "     \\midrule\n",
      "     \\multirow{2}{*}{\\begin{minipage}{\\cwidthorig}\\colorbox{yellow!40}{An} \\colorbox{red!30}{office} \\colorbox{yellow!40}{cubicle} \\colorbox{red!30}{with} four \\colorbox{red!30}{different} \\colorbox{yellow!40}{types} \\colorbox{yellow!40}{of} \\colorbox{red!30}{computers.}\\end{minipage}} & \\xmark & \\begin{minipage}{\\cwidthrec}four various computically cubicè compu?their desktop desk parked \\end{minipage} \\\\[10pt]\n",
      "     \\cmidrule(lr){2-3}\n",
      " & \\cmark & \\begin{minipage}{\\cwidthrec}office cubic??eczw with four different computers either \\end{minipage} \\\\[10pt]\n",
      "     \\midrule\n",
      "     \\multirow{2}{*}{\\begin{minipage}{\\cwidthorig}\\colorbox{yellow!40}{An} \\colorbox{teal!30}{old} victorian \\colorbox{yellow!40}{style} bed \\colorbox{red!30}{frame} \\colorbox{red!30}{in} \\colorbox{red!30}{a} \\colorbox{red!30}{bedroom.}\\end{minipage}} & \\xmark & \\begin{minipage}{\\cwidthrec}old ornate victorian bed showcasing ?wouldfeeold ). \\end{minipage} \\\\[10pt]\n",
      "     \\cmidrule(lr){2-3}\n",
      " & \\cmark & \\begin{minipage}{\\cwidthrec}victorian finornate bed frame placed in a bedroom . \\end{minipage} \\\\[10pt]\n",
      "     \\midrule\n",
      "     \\multirow{2}{*}{\\begin{minipage}{\\cwidthorig}A \\colorbox{red!30}{striped} plane \\colorbox{yellow!40}{flying} \\colorbox{yellow!40}{up} \\colorbox{red!30}{into} \\colorbox{yellow!40}{the} \\colorbox{yellow!40}{sky} \\colorbox{yellow!40}{as} \\colorbox{yellow!40}{the} sun \\colorbox{yellow!40}{shines} \\colorbox{yellow!40}{behind} \\colorbox{yellow!40}{it.}\\end{minipage}} & \\xmark & \\begin{minipage}{\\cwidthrec}a sized </ wildly crafted plane near dramatically dramatically sun sunlight stripes approaching upward underneath \\end{minipage} \\\\[10pt]\n",
      "     \\cmidrule(lr){2-3}\n",
      " & \\cmark & \\begin{minipage}{\\cwidthrec}a striped ??\\^up plane coming above into sun ?وsky . \\end{minipage} \\\\[10pt]\n",
      "     \\midrule\n",
      "     \\multirow{2}{*}{\\begin{minipage}{\\cwidthorig}\\colorbox{yellow!40}{A} cat \\colorbox{teal!30}{in} \\colorbox{red!30}{between} two cars \\colorbox{teal!30}{in} \\colorbox{yellow!40}{a} parking \\colorbox{red!30}{lot.}\\end{minipage}} & \\xmark & \\begin{minipage}{\\cwidthrec}seemingly domestic cat sits standing among two cars in parking \\%. \\end{minipage} \\\\[10pt]\n",
      "     \\cmidrule(lr){2-3}\n",
      " & \\cmark & \\begin{minipage}{\\cwidthrec}cat between two ?four cars docked paved parking lot . \\end{minipage} \\\\[10pt]\n",
      "     \\bottomrule\n",
      "\\end{tabular}\n"
     ]
    }
   ],
   "execution_count": 7
  },
  {
   "metadata": {},
   "cell_type": "code",
   "outputs": [],
   "execution_count": null,
   "source": "",
   "id": "b5564a4693949d33"
  },
  {
   "metadata": {
    "ExecuteTime": {
     "end_time": "2025-05-07T07:17:18.429487Z",
     "start_time": "2025-05-07T07:17:18.423395Z"
    }
   },
   "cell_type": "code",
   "source": [
    "# ---- print LaTeX table -----------------------------------------------------\n",
    "# print(\"\\nLaTeX table (copy & paste):\\n\")\n",
    "print(r\"\\begin{tabular}{lcll}\")\n",
    "print(r\"    \\toprule\")\n",
    "print(r\"     Original & Robust & Reconstructed ViT-H/14 \\\\\")\n",
    "print(r\"     \\midrule\")\n",
    "\n",
    "for i, idx in enumerate(idx_sample):\n",
    "    orig = get_highlighting(original=refs[idx], reconstructed_clean=res_vitg_clean[idx][\"reconstructed\"], reconstructed_robust=res_vitg_robust[idx][\"reconstructed\"])\n",
    "    orig = latex_escape(orig)\n",
    "    mark = r\"\\xmark\"\n",
    "    # rec_h_clean = latex_escape(res_vith_clean[idx][\"reconstructed\"])\n",
    "    rec_g_clean = latex_escape(res_vitg_clean[idx][\"reconstructed\"])\n",
    "    row = (\n",
    "        fr\"     \\multirow{{2}}{{*}}{{\\begin{{minipage}}{{\\cwidthorig}}{orig}\\end{{minipage}}}} & \"\n",
    "        fr\"{mark} & \"\n",
    "        # fr\"\\begin{{minipage}}{{\\cwidth}}{rec_h_clean}\\end{{minipage}} \\\\[10pt]\"\n",
    "        fr\"\\begin{{minipage}}{{\\cwidthrec}}{rec_g_clean}\\end{{minipage}} \\\\[10pt]\"\n",
    "        )\n",
    "    print(row)\n",
    "    print(r\"     \\cmidrule(lr){2-3}\")\n",
    "    mark = r\"\\cmark\"\n",
    "    # rec_h_robust = latex_escape(res_vith_robust[idx][\"reconstructed\"])\n",
    "    rec_g_robust = latex_escape(res_vitg_robust[idx][\"reconstructed\"])\n",
    "    row = (\n",
    "        fr\" & \"\n",
    "        fr\"{mark} & \"\n",
    "        # fr\"\\begin{{minipage}}{{\\cwidth}}{rec_h_robust}\\end{{minipage}} \\\\[10pt]\"\n",
    "        fr\"\\begin{{minipage}}{{\\cwidthrec}}{rec_g_robust}\\end{{minipage}} \\\\[10pt]\"\n",
    "    )\n",
    "    print(row)\n",
    "    print(r\"     \\midrule\") if i < len(idx_sample) - 1 else None\n",
    "print(r\"     \\bottomrule\")\n",
    "print(r\"\\end{tabular}\")"
   ],
   "id": "136076fba363b415",
   "outputs": [
    {
     "name": "stdout",
     "output_type": "stream",
     "text": [
      "\\begin{tabular}{lcll}\n",
      "    \\toprule\n",
      "     Original & Robust & Reconstructed ViT-H/14 \\\\\n",
      "     \\midrule\n",
      "     \\multirow{2}{*}{\\begin{minipage}{\\cwidthorig}\\colorbox{red!30}{A} car \\colorbox{red!30}{and} \\colorbox{red!30}{a} public transit vehicle \\colorbox{yellow!40}{on} \\colorbox{red!30}{a} \\colorbox{yellow!40}{road.}\\end{minipage}} & \\xmark & \\begin{minipage}{\\cwidthrec}partially tionally car sits alongside alongside roads public transit vehicle '. \\end{minipage} \\\\[10pt]\n",
      "     \\cmidrule(lr){2-3}\n",
      " & \\cmark & \\begin{minipage}{\\cwidthrec}a car and eachother and a roadway public transit vehicle . \\end{minipage} \\\\[10pt]\n",
      "     \\midrule\n",
      "     \\multirow{2}{*}{\\begin{minipage}{\\cwidthorig}\\colorbox{red!30}{An} \\colorbox{red!30}{image} \\colorbox{red!30}{of} \\colorbox{red!30}{a} hotel bathroom \\colorbox{yellow!40}{that} \\colorbox{yellow!40}{is} ugly.\\end{minipage}} & \\xmark & \\begin{minipage}{\\cwidthrec}apparent nicely tered hotel bathroom containing looking ugly pfmage \\end{minipage} \\\\[10pt]\n",
      "     \\cmidrule(lr){2-3}\n",
      " & \\cmark & \\begin{minipage}{\\cwidthrec}image of a ugly \\begin{CJK}{UTF8}{min}と繋\\end{CJK}?* an hotel bathroom . \\end{minipage} \\\\[10pt]\n",
      "     \\midrule\n",
      "     \\multirow{2}{*}{\\begin{minipage}{\\cwidthorig}\\colorbox{red!30}{An} \\colorbox{teal!30}{older} \\colorbox{yellow!40}{picture} \\colorbox{yellow!40}{of} \\colorbox{teal!30}{a} large kitchen \\colorbox{yellow!40}{with} \\colorbox{yellow!40}{white} \\colorbox{red!30}{appliances.}\\end{minipage}} & \\xmark & \\begin{minipage}{\\cwidthrec}a large kitchen photographed before that wasn resembtedly older . \\end{minipage} \\\\[10pt]\n",
      "     \\cmidrule(lr){2-3}\n",
      " & \\cmark & \\begin{minipage}{\\cwidthrec}large old whil, an kitchen featuring ✊reaswhite appliances \\end{minipage} \\\\[10pt]\n",
      "     \\midrule\n",
      "     \\multirow{2}{*}{\\begin{minipage}{\\cwidthorig}A girl sitting \\colorbox{yellow!40}{on} a bench \\colorbox{teal!30}{in} \\colorbox{yellow!40}{front} \\colorbox{yellow!40}{of} a stone wall.\\end{minipage}} & \\xmark & \\begin{minipage}{\\cwidthrec}girl near stone wall in a bench aciantly sitting tedly tedly ). \\end{minipage} \\\\[10pt]\n",
      "     \\cmidrule(lr){2-3}\n",
      " & \\cmark & \\begin{minipage}{\\cwidthrec}girl sitting while a stone wall sits alongside an bench a <end\\_of\\_text>). \\end{minipage} \\\\[10pt]\n",
      "     \\midrule\n",
      "     \\multirow{2}{*}{\\begin{minipage}{\\cwidthorig}\\colorbox{teal!30}{A} clean kitchen \\colorbox{red!30}{with} \\colorbox{yellow!40}{the} windows white and \\colorbox{yellow!40}{open.}\\end{minipage}} & \\xmark & \\begin{minipage}{\\cwidthrec}view of a white kitchen and nicely clean windows . \\end{minipage} \\\\[10pt]\n",
      "     \\cmidrule(lr){2-3}\n",
      " & \\cmark & \\begin{minipage}{\\cwidthrec}an clean and white kitchen with windows thwindows . \\end{minipage} \\\\[10pt]\n",
      "     \\midrule\n",
      "     \\multirow{2}{*}{\\begin{minipage}{\\cwidthorig}Two women \\colorbox{yellow!40}{waiting} \\colorbox{yellow!40}{at} a bench \\colorbox{yellow!40}{next} \\colorbox{yellow!40}{to} a street.\\end{minipage}} & \\xmark & \\begin{minipage}{\\cwidthrec}along a street bench . two women crouwaited stares . \\end{minipage} \\\\[10pt]\n",
      "     \\cmidrule(lr){2-3}\n",
      " & \\cmark & \\begin{minipage}{\\cwidthrec}:// ; two women wait a street while bench outside . \\end{minipage} \\\\[10pt]\n",
      "     \\midrule\n",
      "     \\multirow{2}{*}{\\begin{minipage}{\\cwidthorig}\\colorbox{red!30}{An} office cubicle \\colorbox{red!30}{with} four different \\colorbox{red!30}{types} \\colorbox{yellow!40}{of} computers.\\end{minipage}} & \\xmark & \\begin{minipage}{\\cwidthrec}office cubicle depicting four various different computers alongside paysoff ). \\end{minipage} \\\\[10pt]\n",
      "     \\cmidrule(lr){2-3}\n",
      " & \\cmark & \\begin{minipage}{\\cwidthrec}office cubicle containing an workplace with four different types computers \\end{minipage} \\\\[10pt]\n",
      "     \\midrule\n",
      "     \\multirow{2}{*}{\\begin{minipage}{\\cwidthorig}\\colorbox{yellow!40}{An} \\colorbox{yellow!40}{old} victorian \\colorbox{red!30}{style} bed \\colorbox{red!30}{frame} \\colorbox{red!30}{in} \\colorbox{red!30}{a} \\colorbox{red!30}{bedroom.}\\end{minipage}} & \\xmark & \\begin{minipage}{\\cwidthrec}eighsundaymotivation throwback© ?shutterintimacy \"; victorian bed \\end{minipage} \\\\[10pt]\n",
      "     \\cmidrule(lr){2-3}\n",
      " & \\cmark & \\begin{minipage}{\\cwidthrec}a victorian style bed frame uas in a bedroom . \\end{minipage} \\\\[10pt]\n",
      "     \\midrule\n",
      "     \\multirow{2}{*}{\\begin{minipage}{\\cwidthorig}A striped plane flying \\colorbox{yellow!40}{up} \\colorbox{teal!30}{into} \\colorbox{yellow!40}{the} \\colorbox{teal!30}{sky} \\colorbox{yellow!40}{as} \\colorbox{yellow!40}{the} sun \\colorbox{yellow!40}{shines} \\colorbox{red!30}{behind} \\colorbox{yellow!40}{it.}\\end{minipage}} & \\xmark & \\begin{minipage}{\\cwidthrec}nearly seemingly seemingly oooooooo a striped ambitious plane being flying into sky with sun light \\end{minipage} \\\\[10pt]\n",
      "     \\cmidrule(lr){2-3}\n",
      " & \\cmark & \\begin{minipage}{\\cwidthrec}a striped plane being flying over above , but shining sun enguliot ung behind \\end{minipage} \\\\[10pt]\n",
      "     \\midrule\n",
      "     \\multirow{2}{*}{\\begin{minipage}{\\cwidthorig}\\colorbox{yellow!40}{A} cat \\colorbox{red!30}{in} \\colorbox{red!30}{between} two cars \\colorbox{red!30}{in} \\colorbox{yellow!40}{a} parking lot.\\end{minipage}} & \\xmark & \\begin{minipage}{\\cwidthrec}cat sitting through parked parking lot ?) alongside two two cars \\end{minipage} \\\\[10pt]\n",
      "     \\cmidrule(lr){2-3}\n",
      " & \\cmark & \\begin{minipage}{\\cwidthrec}cat sits in an parking lot between two cars either ). \\end{minipage} \\\\[10pt]\n",
      "     \\bottomrule\n",
      "\\end{tabular}\n"
     ]
    }
   ],
   "execution_count": 9
  },
  {
   "metadata": {},
   "cell_type": "markdown",
   "source": "## Track down unicode characters",
   "id": "ef272d1cd9ccb9a4"
  },
  {
   "metadata": {
    "ExecuteTime": {
     "end_time": "2025-04-29T06:53:40.497257Z",
     "start_time": "2025-04-29T06:53:40.490634Z"
    }
   },
   "cell_type": "code",
   "source": [
    "import os\n",
    "import json\n",
    "import numpy as np\n",
    "import open_clip_pez\n",
    "\n",
    "REF_CAPTIONS_PATH = \"coco_captions.txt\"  # currently unused but kept for context\n",
    "RECONSTRUCTIONS_DIR = \"/mnt/cschlarmann37/project_bimodal-robust-clip/results_inversions\"\n",
    "\n",
    "FILES = {\n",
    "    \"vith_clean\": \"results-100smpls-3000iters-ViT-H-14-clean.json\",\n",
    "    \"vith_robust\": \"results-100smpls-3000iters-ViT-H-14-robust.json\",\n",
    "    \"vitg_clean\": \"results-100smpls-3000iters-ViT-g-14-clean.json\",\n",
    "    \"vitg_robust\": \"results-100smpls-3000iters-ViT-g-14-robust.json\",\n",
    "}\n",
    "\n",
    "tokenizer = open_clip_pez.tokenizer._tokenizer\n",
    "\n",
    "def load_results(key: str):\n",
    "    \"\"\"Load the list of inversion results for a given key in FILES.\"\"\"\n",
    "    path = os.path.join(RECONSTRUCTIONS_DIR, FILES[key])\n",
    "    with open(path, \"r\") as f:\n",
    "        return json.load(f)[\"results\"]"
   ],
   "id": "15cb634fa99e85c5",
   "outputs": [],
   "execution_count": 12
  },
  {
   "metadata": {
    "ExecuteTime": {
     "end_time": "2025-04-29T06:51:39.341016Z",
     "start_time": "2025-04-29T06:51:39.335871Z"
    }
   },
   "cell_type": "code",
   "source": "res = load_results(\"vith_clean\")",
   "id": "c02bf698fed8497b",
   "outputs": [],
   "execution_count": 8
  },
  {
   "metadata": {
    "ExecuteTime": {
     "end_time": "2025-04-29T07:02:20.904347Z",
     "start_time": "2025-04-29T07:02:20.899486Z"
    }
   },
   "cell_type": "code",
   "source": "res[0]",
   "id": "1a2362c0ae7d9a3c",
   "outputs": [
    {
     "data": {
      "text/plain": [
       "{'original': 'A black Honda motorcycle parked in front of a garage.',\n",
       " 'reconstructed': 'dark black honda honda giving modest motorcycle parked docked outside . ',\n",
       " 'ids_rec': [1449,\n",
       "  2442,\n",
       "  16580,\n",
       "  8553,\n",
       "  2714,\n",
       "  10297,\n",
       "  16487,\n",
       "  12726,\n",
       "  16487,\n",
       "  16487,\n",
       "  18650],\n",
       " 'sim': 0.8970907926559448,\n",
       " 'ids_orig': [49406,\n",
       "  320,\n",
       "  1449,\n",
       "  8553,\n",
       "  10297,\n",
       "  16487,\n",
       "  530,\n",
       "  2184,\n",
       "  539,\n",
       "  320,\n",
       "  8474,\n",
       "  269,\n",
       "  49407,\n",
       "  0,\n",
       "  0,\n",
       "  0,\n",
       "  0,\n",
       "  0,\n",
       "  0,\n",
       "  0,\n",
       "  0,\n",
       "  0,\n",
       "  0,\n",
       "  0,\n",
       "  0,\n",
       "  0,\n",
       "  0,\n",
       "  0,\n",
       "  0,\n",
       "  0,\n",
       "  0,\n",
       "  0,\n",
       "  0,\n",
       "  0,\n",
       "  0,\n",
       "  0,\n",
       "  0,\n",
       "  0,\n",
       "  0,\n",
       "  0,\n",
       "  0,\n",
       "  0,\n",
       "  0,\n",
       "  0,\n",
       "  0,\n",
       "  0,\n",
       "  0,\n",
       "  0,\n",
       "  0,\n",
       "  0,\n",
       "  0,\n",
       "  0,\n",
       "  0,\n",
       "  0,\n",
       "  0,\n",
       "  0,\n",
       "  0,\n",
       "  0,\n",
       "  0,\n",
       "  0,\n",
       "  0,\n",
       "  0,\n",
       "  0,\n",
       "  0,\n",
       "  0,\n",
       "  0,\n",
       "  0,\n",
       "  0,\n",
       "  0,\n",
       "  0,\n",
       "  0,\n",
       "  0,\n",
       "  0,\n",
       "  0,\n",
       "  0,\n",
       "  0,\n",
       "  0]}"
      ]
     },
     "execution_count": 19,
     "metadata": {},
     "output_type": "execute_result"
    }
   ],
   "execution_count": 19
  },
  {
   "metadata": {
    "ExecuteTime": {
     "end_time": "2025-04-29T07:12:30.357068Z",
     "start_time": "2025-04-29T07:12:30.353078Z"
    }
   },
   "cell_type": "code",
   "source": "print(res[81][\"ids_rec\"])",
   "id": "3f8032be74725031",
   "outputs": [
    {
     "name": "stdout",
     "output_type": "stream",
     "text": [
      "[16218, 8470, 33769, 30832, 30832, 30832, 30832, 377, 30832, 30832]\n"
     ]
    }
   ],
   "execution_count": 22
  },
  {
   "metadata": {
    "ExecuteTime": {
     "end_time": "2025-04-29T07:02:40.961194Z",
     "start_time": "2025-04-29T07:02:40.957165Z"
    }
   },
   "cell_type": "code",
   "source": "tokenizer.decode(res[0][\"ids_rec\"])",
   "id": "b90ffe3c2a54c6e4",
   "outputs": [
    {
     "data": {
      "text/plain": [
       "'black small ridgehonda performance motorcycle parked sits parked parked .\"'"
      ]
     },
     "execution_count": 21,
     "metadata": {},
     "output_type": "execute_result"
    }
   ],
   "execution_count": 21
  },
  {
   "metadata": {
    "ExecuteTime": {
     "end_time": "2025-04-29T06:55:04.347886Z",
     "start_time": "2025-04-29T06:55:04.343031Z"
    }
   },
   "cell_type": "code",
   "source": "tokenizer.decode(res[81][\"ids_orig\"])",
   "id": "5f31a16ef21ec4d5",
   "outputs": [
    {
     "data": {
      "text/plain": [
       "'<start_of_text>an image of a hotel bathroom that is ugly . <end_of_text>!!!!!!!!!!!!!!!!!!!!!!!!!!!!!!!!!!!!!!!!!!!!!!!!!!!!!!!!!!!!!!!!!'"
      ]
     },
     "execution_count": 14,
     "metadata": {},
     "output_type": "execute_result"
    }
   ],
   "execution_count": 14
  },
  {
   "metadata": {
    "ExecuteTime": {
     "end_time": "2025-04-29T06:55:44.143826Z",
     "start_time": "2025-04-29T06:55:44.139543Z"
    }
   },
   "cell_type": "code",
   "source": "tokenizer.decode([377])",
   "id": "3e88f48de48f2b60",
   "outputs": [
    {
     "data": {
      "text/plain": [
       "'� '"
      ]
     },
     "execution_count": 16,
     "metadata": {},
     "output_type": "execute_result"
    }
   ],
   "execution_count": 16
  },
  {
   "metadata": {
    "ExecuteTime": {
     "end_time": "2025-04-29T06:57:13.508406Z",
     "start_time": "2025-04-29T06:57:13.503792Z"
    }
   },
   "cell_type": "code",
   "source": "tokenizer.decoder[377]",
   "id": "5dc7bd85e716ca46",
   "outputs": [
    {
     "data": {
      "text/plain": [
       "'½</w>'"
      ]
     },
     "execution_count": 18,
     "metadata": {},
     "output_type": "execute_result"
    }
   ],
   "execution_count": 18
  },
  {
   "metadata": {
    "ExecuteTime": {
     "end_time": "2025-04-29T07:58:13.366567Z",
     "start_time": "2025-04-29T07:58:13.361559Z"
    }
   },
   "cell_type": "code",
   "source": "[tokenizer.byte_decoder[c] for c in '½</w>']",
   "id": "d0508921314f718c",
   "outputs": [
    {
     "data": {
      "text/plain": [
       "[189, 60, 47, 119, 62]"
      ]
     },
     "execution_count": 75,
     "metadata": {},
     "output_type": "execute_result"
    }
   ],
   "execution_count": 75
  },
  {
   "metadata": {
    "ExecuteTime": {
     "end_time": "2025-04-29T08:00:17.389479Z",
     "start_time": "2025-04-29T08:00:17.384647Z"
    }
   },
   "cell_type": "code",
   "source": "bytearray([189, 60, 47, 119, 62]).decode('utf-8', errors=\"replace\")",
   "id": "4c10c685f7c845f5",
   "outputs": [
    {
     "data": {
      "text/plain": [
       "'�</w>'"
      ]
     },
     "execution_count": 80,
     "metadata": {},
     "output_type": "execute_result"
    }
   ],
   "execution_count": 80
  },
  {
   "metadata": {
    "ExecuteTime": {
     "end_time": "2025-04-29T08:09:08.411394Z",
     "start_time": "2025-04-29T08:09:08.407302Z"
    }
   },
   "cell_type": "code",
   "source": "",
   "id": "4b93410130adb938",
   "outputs": [],
   "execution_count": null
  },
  {
   "metadata": {
    "ExecuteTime": {
     "end_time": "2025-04-29T07:51:12.854904Z",
     "start_time": "2025-04-29T07:51:12.848354Z"
    }
   },
   "cell_type": "code",
   "source": "tokenizer.encode('Â½')",
   "id": "6be7fd2cd02e5bf3",
   "outputs": [
    {
     "data": {
      "text/plain": [
       "[33613]"
      ]
     },
     "execution_count": 63,
     "metadata": {},
     "output_type": "execute_result"
    }
   ],
   "execution_count": 63
  },
  {
   "metadata": {
    "ExecuteTime": {
     "end_time": "2025-04-29T07:55:40.774749Z",
     "start_time": "2025-04-29T07:55:40.770618Z"
    }
   },
   "cell_type": "code",
   "source": "tokenizer.decoder[33613]",
   "id": "5e306debf0b0253b",
   "outputs": [
    {
     "data": {
      "text/plain": [
       "'Â½</w>'"
      ]
     },
     "execution_count": 73,
     "metadata": {},
     "output_type": "execute_result"
    }
   ],
   "execution_count": 73
  },
  {
   "metadata": {
    "ExecuteTime": {
     "end_time": "2025-04-29T07:35:55.058213Z",
     "start_time": "2025-04-29T07:35:55.053437Z"
    }
   },
   "cell_type": "code",
   "source": "bytearray([tokenizer.byte_decoder[c] for c in 'Â½</w>'])#.decode('utf-8')",
   "id": "debc6b77f4298de1",
   "outputs": [
    {
     "data": {
      "text/plain": [
       "bytearray(b'\\xc2\\xbd</w>')"
      ]
     },
     "execution_count": 49,
     "metadata": {},
     "output_type": "execute_result"
    }
   ],
   "execution_count": 49
  },
  {
   "metadata": {
    "ExecuteTime": {
     "end_time": "2025-04-29T07:37:41.811627Z",
     "start_time": "2025-04-29T07:37:41.805961Z"
    }
   },
   "cell_type": "code",
   "source": "bytearray([tokenizer.byte_decoder[c] for c in 'Âb'])#.decode('utf-8')",
   "id": "e9f49a90e61dc036",
   "outputs": [
    {
     "data": {
      "text/plain": [
       "bytearray(b'\\xc2b')"
      ]
     },
     "execution_count": 54,
     "metadata": {},
     "output_type": "execute_result"
    }
   ],
   "execution_count": 54
  },
  {
   "metadata": {
    "ExecuteTime": {
     "end_time": "2025-04-29T07:15:45.831870Z",
     "start_time": "2025-04-29T07:15:45.826417Z"
    }
   },
   "cell_type": "code",
   "source": "tokenizer.encoder['½</w>']",
   "id": "b71013d5cf072c87",
   "outputs": [
    {
     "data": {
      "text/plain": [
       "377"
      ]
     },
     "execution_count": 32,
     "metadata": {},
     "output_type": "execute_result"
    }
   ],
   "execution_count": 32
  },
  {
   "metadata": {
    "ExecuteTime": {
     "end_time": "2025-04-29T07:52:50.283490Z",
     "start_time": "2025-04-29T07:52:50.257212Z"
    }
   },
   "cell_type": "code",
   "source": "tokenizer.byte_encoder[\"c\"]",
   "id": "94b64b3539726f2b",
   "outputs": [
    {
     "ename": "KeyError",
     "evalue": "'c'",
     "output_type": "error",
     "traceback": [
      "\u001B[31m---------------------------------------------------------------------------\u001B[39m",
      "\u001B[31mKeyError\u001B[39m                                  Traceback (most recent call last)",
      "\u001B[36mCell\u001B[39m\u001B[36m \u001B[39m\u001B[32mIn[67]\u001B[39m\u001B[32m, line 1\u001B[39m\n\u001B[32m----> \u001B[39m\u001B[32m1\u001B[39m \u001B[43mtokenizer\u001B[49m\u001B[43m.\u001B[49m\u001B[43mbyte_encoder\u001B[49m\u001B[43m[\u001B[49m\u001B[33;43m\"\u001B[39;49m\u001B[33;43mc\u001B[39;49m\u001B[33;43m\"\u001B[39;49m\u001B[43m]\u001B[49m\n",
      "\u001B[31mKeyError\u001B[39m: 'c'"
     ]
    }
   ],
   "execution_count": 67
  },
  {
   "metadata": {
    "ExecuteTime": {
     "end_time": "2025-04-29T07:49:51.576275Z",
     "start_time": "2025-04-29T07:49:51.571166Z"
    }
   },
   "cell_type": "code",
   "source": "''.join(tokenizer.byte_encoder[c] for c in '½</w>'.encode('utf-8'))",
   "id": "59a8929b92a22377",
   "outputs": [
    {
     "data": {
      "text/plain": [
       "'Â½</w>'"
      ]
     },
     "execution_count": 59,
     "metadata": {},
     "output_type": "execute_result"
    }
   ],
   "execution_count": 59
  },
  {
   "metadata": {
    "ExecuteTime": {
     "end_time": "2025-04-29T07:49:54.970628Z",
     "start_time": "2025-04-29T07:49:54.966251Z"
    }
   },
   "cell_type": "code",
   "source": "tokenizer.bpe('Â½')",
   "id": "771ec341dbc51461",
   "outputs": [
    {
     "data": {
      "text/plain": [
       "'Â½</w>'"
      ]
     },
     "execution_count": 60,
     "metadata": {},
     "output_type": "execute_result"
    }
   ],
   "execution_count": 60
  },
  {
   "metadata": {
    "ExecuteTime": {
     "end_time": "2025-04-29T07:54:10.365518Z",
     "start_time": "2025-04-29T07:54:10.361207Z"
    }
   },
   "cell_type": "code",
   "source": "[c for c in '½'.encode('utf-8')]",
   "id": "125f4d193916e36e",
   "outputs": [
    {
     "data": {
      "text/plain": [
       "[194, 189]"
      ]
     },
     "execution_count": 71,
     "metadata": {},
     "output_type": "execute_result"
    }
   ],
   "execution_count": 71
  },
  {
   "metadata": {},
   "cell_type": "code",
   "outputs": [],
   "execution_count": null,
   "source": "\n",
   "id": "d0b222cd76a518fa"
  },
  {
   "metadata": {
    "ExecuteTime": {
     "end_time": "2025-04-29T08:12:56.651717Z",
     "start_time": "2025-04-29T08:12:56.646885Z"
    }
   },
   "cell_type": "code",
   "source": "tokenizer.decode([30832])",
   "id": "19f4fd9d4a694676",
   "outputs": [
    {
     "data": {
      "text/plain": [
       "'�▂�'"
      ]
     },
     "execution_count": 90,
     "metadata": {},
     "output_type": "execute_result"
    }
   ],
   "execution_count": 90
  },
  {
   "metadata": {
    "ExecuteTime": {
     "end_time": "2025-04-29T08:12:35.314995Z",
     "start_time": "2025-04-29T08:12:35.309733Z"
    }
   },
   "cell_type": "code",
   "source": "tokenizer.decoder[30832]",
   "id": "6b6840ecafa454a3",
   "outputs": [
    {
     "data": {
      "text/plain": [
       "'ĤâĸĤâĸ'"
      ]
     },
     "execution_count": 87,
     "metadata": {},
     "output_type": "execute_result"
    }
   ],
   "execution_count": 87
  },
  {
   "metadata": {
    "ExecuteTime": {
     "end_time": "2025-04-29T08:09:35.601998Z",
     "start_time": "2025-04-29T08:09:35.596750Z"
    }
   },
   "cell_type": "code",
   "source": "tokenizer.encoder['ĤâĸĤâĸ']",
   "id": "5295964aad5c6d68",
   "outputs": [
    {
     "data": {
      "text/plain": [
       "30832"
      ]
     },
     "execution_count": 85,
     "metadata": {},
     "output_type": "execute_result"
    }
   ],
   "execution_count": 85
  },
  {
   "metadata": {
    "ExecuteTime": {
     "end_time": "2025-04-29T08:17:21.858735Z",
     "start_time": "2025-04-29T08:17:21.852873Z"
    }
   },
   "cell_type": "code",
   "source": "tokenizer.encode('ĤâĸĤâĸ')",
   "id": "60be585c230eff97",
   "outputs": [
    {
     "data": {
      "text/plain": [
       "[128, 98, 26170, 128, 116, 128, 98, 26170, 128, 372]"
      ]
     },
     "execution_count": 96,
     "metadata": {},
     "output_type": "execute_result"
    }
   ],
   "execution_count": 96
  },
  {
   "metadata": {
    "ExecuteTime": {
     "end_time": "2025-04-29T08:15:29.377496Z",
     "start_time": "2025-04-29T08:15:29.372651Z"
    }
   },
   "cell_type": "code",
   "source": "tokenizer.decode([30832, 30832])",
   "id": "312db13873e9cc6d",
   "outputs": [
    {
     "data": {
      "text/plain": [
       "'�▂▂▂�'"
      ]
     },
     "execution_count": 95,
     "metadata": {},
     "output_type": "execute_result"
    }
   ],
   "execution_count": 95
  },
  {
   "metadata": {
    "ExecuteTime": {
     "end_time": "2025-04-29T08:14:52.534532Z",
     "start_time": "2025-04-29T08:14:52.528440Z"
    }
   },
   "cell_type": "code",
   "source": [
    "for el in res[:15]:\n",
    "    ids = el[\"ids_rec\"]\n",
    "    rec = tokenizer.decode(ids)\n",
    "    print(rec)\n",
    "    print(ids)\n",
    "    print()"
   ],
   "id": "71c7b5dd2b7d9cfb",
   "outputs": [
    {
     "name": "stdout",
     "output_type": "stream",
     "text": [
      "black small ridgehonda performance motorcycle parked sits parked parked .\"\n",
      "[1449, 2442, 16580, 8553, 2714, 10297, 16487, 12726, 16487, 16487, 18650]\n",
      "\n",
      "multiple messy desktop monitors bü�▂▂▂▂▂▂▂▅ coworking area \n",
      "[6470, 15987, 14345, 30478, 38706, 30832, 30832, 30832, 30832, 483, 36034, 2445]\n",
      "\n",
      "apparently �▂▂▂▂▂▂▂�possibly extremely small toilet .\"\n",
      "[5287, 30832, 30832, 30832, 30832, 8601, 6519, 2442, 11071, 18650]\n",
      "\n",
      ",,mga alt _( newly ]: woman resting sit waitin pathway \n",
      "[21340, 23954, 10006, 36951, 7056, 21641, 2308, 18044, 4037, 44482, 23488]\n",
      "\n",
      "beautifully luxe dessert appetizer supportsmallstreamers 🇮ae bbhuttolliae \n",
      "[10627, 26373, 9753, 36065, 36097, 8268, 4542, 28085, 47015, 4542]\n",
      "\n",
      "generously hungry cat eating bird �▂▂▂▂▂▂▂�\n",
      "[35113, 8451, 2368, 4371, 3329, 30832, 30832, 30832, 30832]\n",
      "\n",
      "australians 🏼possibly older elderly man standing inthekitchen .\"\n",
      "[31488, 6193, 8601, 7700, 15455, 786, 2862, 7486, 4485, 18650]\n",
      "\n",
      "discarded male cat patiently staring amongst two car using parking . \n",
      "[45197, 2801, 2368, 22980, 13800, 12520, 1237, 1615, 1996, 5984, 269]\n",
      "\n",
      "< asset align �▂�ref evolving crowded coworker multiple compu\n",
      "[283, 13039, 31160, 30832, 9591, 23675, 20182, 30727, 6470, 11639]\n",
      "\n",
      "group of motorcycles are parade through approaching leafy tall trees �▂�.\"�\n",
      "[1771, 539, 24869, 631, 5809, 1417, 12164, 42616, 7771, 4682, 30832, 18650, 11322]\n",
      "\n",
      "\"\"finnish content :: woman with cats background sleeping \n",
      "[41530, 19616, 4750, 9788, 2308, 593, 3989, 5994, 6982]\n",
      "\n",
      "adds ️�▂�twitart all white inspo �▂▂▂�itup ]. \n",
      "[9944, 1392, 30832, 27709, 615, 1579, 26897, 30832, 30832, 35838, 26262]\n",
      "\n",
      "often sure actual banana �▂▂▂�bbhuttotransitional telephone sives !). \n",
      "[4864, 1650, 7488, 8922, 30832, 30832, 28085, 41519, 17243, 23896, 26225]\n",
      "\n",
      "this bbhuttobbhuttobbhuttopuppy paused christopher armchair watch and barefoot appoint toes \n",
      "[589, 28085, 28085, 28085, 6829, 46782, 9630, 45757, 1239, 537, 30327, 36190, 16511]\n",
      "\n",
      "businessman standing beside motorcycles rigid slider earthandclouds bbhuttobbhuttobbhuttobbhuttomccorcrop \n",
      "[25635, 2862, 13519, 24869, 43138, 37861, 34480, 28085, 28085, 28085, 28085, 23057, 9955]\n",
      "\n"
     ]
    }
   ],
   "execution_count": 91
  },
  {
   "metadata": {},
   "cell_type": "code",
   "outputs": [],
   "execution_count": null,
   "source": "",
   "id": "880079873beca21f"
  }
 ],
 "metadata": {
  "kernelspec": {
   "display_name": "Python 3",
   "language": "python",
   "name": "python3"
  },
  "language_info": {
   "codemirror_mode": {
    "name": "ipython",
    "version": 2
   },
   "file_extension": ".py",
   "mimetype": "text/x-python",
   "name": "python",
   "nbconvert_exporter": "python",
   "pygments_lexer": "ipython2",
   "version": "2.7.6"
  }
 },
 "nbformat": 4,
 "nbformat_minor": 5
}
